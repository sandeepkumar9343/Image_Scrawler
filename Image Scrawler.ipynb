{
 "cells": [
  {
   "cell_type": "markdown",
   "metadata": {},
   "source": [
    "# Image Crawling using bs4\n",
    "\n",
    "1)Image Crawling is used for scraping the images from the web automatically.\n",
    "\n",
    "2)It is important when we are dealing the images for Image processing.\n",
    "\n",
    "3)With Beautifullsoup and requests libraries we can automatically downlaod the images from internet."
   ]
  },
  {
   "cell_type": "code",
   "execution_count": 1,
   "metadata": {},
   "outputs": [],
   "source": [
    "from bs4 import BeautifulSoup\n",
    "import requests\n",
    "import os\n",
    "import urllib.request"
   ]
  },
  {
   "cell_type": "code",
   "execution_count": 3,
   "metadata": {},
   "outputs": [],
   "source": [
    "headers = {'User-Agent':'Mozilla/5.0 (Windows NT 10.0; Win64; x64) AppleWebKit/537.36 (KHTML, like Gecko) Chrome/58.0.3029.110 Safari/537.3'}"
   ]
  },
  {
   "cell_type": "code",
   "execution_count": 5,
   "metadata": {},
   "outputs": [],
   "source": [
    "source = requests.get('https://www.freeimages.com/search/dog',headers=headers).text\n",
    "soup = BeautifulSoup(source,'html.parser',)\n",
    "\n",
    "Images=[]\n",
    "img_links=soup.select('img[src^=\"https://images.freeimages.com/images\"]')\n",
    "\n",
    "for i in range(len(img_links)):\n",
    "    Images.append(img_links[i]['src'])\n",
    "    \n",
    "for i in range(50):\n",
    "    name=\"C:/Users/sandeep/Desktop/hack/project/sick_images/\"+str(i)+\".jpg\"\n",
    "    urllib.request.urlretrieve(Images[i],name)"
   ]
  },
  {
   "cell_type": "code",
   "execution_count": null,
   "metadata": {},
   "outputs": [],
   "source": []
  }
 ],
 "metadata": {
  "kernelspec": {
   "display_name": "Python 3",
   "language": "python",
   "name": "python3"
  },
  "language_info": {
   "codemirror_mode": {
    "name": "ipython",
    "version": 3
   },
   "file_extension": ".py",
   "mimetype": "text/x-python",
   "name": "python",
   "nbconvert_exporter": "python",
   "pygments_lexer": "ipython3",
   "version": "3.7.3"
  }
 },
 "nbformat": 4,
 "nbformat_minor": 2
}
